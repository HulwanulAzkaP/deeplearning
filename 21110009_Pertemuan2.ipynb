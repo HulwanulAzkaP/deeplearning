{
 "cells": [
  {
   "cell_type": "markdown",
   "id": "8e5fc55b",
   "metadata": {},
   "source": [
    "<h1 style=\"text-align:center\">KLASIFIKASI 2 KELAS</h1> "
   ]
  },
  {
   "cell_type": "markdown",
   "id": "57aea2ef",
   "metadata": {},
   "source": [
    "### Activation pada Dense\n",
    "\n",
    "Setelah kita melakukan regresi menggunakan activation `relu` dan `linear`, pada pertemuan kali ini, kita akan mencoba melakukan klasifikasi menggunakan Dense dengan 2 jenis activation yang berbeda yaitu\n",
    "\n",
    "1.   `sigmoid`\n",
    "2.   `softmax`\n",
    "\n",
    "Jika `linear` kita pergunakan untuk output yang berupa `float`, maka `sigmoid` dan `softmax` kita pergunakan untuk kasus klasifikasi dengan hasil dalam bentuk persentase."
   ]
  },
  {
   "cell_type": "markdown",
   "id": "7749f6a5",
   "metadata": {},
   "source": [
    "# Sigmoid\n",
    "\n",
    "`sigmoid` kita pergunakan jika kelas yang kita klasifikasikan/kategorikan hanya berjumlah 2 kelas saja. Istilah lainnya untuk kasus ini adalah kasus biner atau binary. Contohnya, kelas `ya` dan `tidak`, atau kelas `cowok` dan `cewek`, atau kelas `sehat` dan `sakit`, dan seterusnya. Tentu saja, kelas-kelas ini haruslah kita representasikan dalam bentuk `0` dan `1`."
   ]
  },
  {
   "cell_type": "markdown",
   "id": "21576bc8",
   "metadata": {},
   "source": [
    "# Persiapan Data"
   ]
  },
  {
   "cell_type": "code",
   "execution_count": 14,
   "id": "a2a3395b",
   "metadata": {},
   "outputs": [
    {
     "data": {
      "text/html": [
       "<div>\n",
       "<style scoped>\n",
       "    .dataframe tbody tr th:only-of-type {\n",
       "        vertical-align: middle;\n",
       "    }\n",
       "\n",
       "    .dataframe tbody tr th {\n",
       "        vertical-align: top;\n",
       "    }\n",
       "\n",
       "    .dataframe thead th {\n",
       "        text-align: right;\n",
       "    }\n",
       "</style>\n",
       "<table border=\"1\" class=\"dataframe\">\n",
       "  <thead>\n",
       "    <tr style=\"text-align: right;\">\n",
       "      <th></th>\n",
       "      <th>x1</th>\n",
       "      <th>x2</th>\n",
       "      <th>x3</th>\n",
       "      <th>x4</th>\n",
       "      <th>x5</th>\n",
       "      <th>x6</th>\n",
       "      <th>x7</th>\n",
       "      <th>x8</th>\n",
       "      <th>x9</th>\n",
       "      <th>x10</th>\n",
       "      <th>y</th>\n",
       "    </tr>\n",
       "  </thead>\n",
       "  <tbody>\n",
       "    <tr>\n",
       "      <th>0</th>\n",
       "      <td>0.633563</td>\n",
       "      <td>0.357385</td>\n",
       "      <td>-0.503931</td>\n",
       "      <td>0.935066</td>\n",
       "      <td>0.647981</td>\n",
       "      <td>-0.050796</td>\n",
       "      <td>-1.933989</td>\n",
       "      <td>2.081684</td>\n",
       "      <td>0.041266</td>\n",
       "      <td>-0.258298</td>\n",
       "      <td>1</td>\n",
       "    </tr>\n",
       "    <tr>\n",
       "      <th>1</th>\n",
       "      <td>1.283905</td>\n",
       "      <td>1.109459</td>\n",
       "      <td>-0.908953</td>\n",
       "      <td>1.006586</td>\n",
       "      <td>0.492219</td>\n",
       "      <td>1.107295</td>\n",
       "      <td>1.243526</td>\n",
       "      <td>-0.172200</td>\n",
       "      <td>1.150359</td>\n",
       "      <td>0.147744</td>\n",
       "      <td>1</td>\n",
       "    </tr>\n",
       "    <tr>\n",
       "      <th>2</th>\n",
       "      <td>-0.966476</td>\n",
       "      <td>-0.593314</td>\n",
       "      <td>0.458020</td>\n",
       "      <td>1.032323</td>\n",
       "      <td>1.283685</td>\n",
       "      <td>-0.317640</td>\n",
       "      <td>1.499045</td>\n",
       "      <td>0.434477</td>\n",
       "      <td>0.423678</td>\n",
       "      <td>1.251380</td>\n",
       "      <td>1</td>\n",
       "    </tr>\n",
       "    <tr>\n",
       "      <th>3</th>\n",
       "      <td>2.429309</td>\n",
       "      <td>-1.306530</td>\n",
       "      <td>-1.869925</td>\n",
       "      <td>3.092164</td>\n",
       "      <td>2.028800</td>\n",
       "      <td>-0.879635</td>\n",
       "      <td>-0.393494</td>\n",
       "      <td>-0.101213</td>\n",
       "      <td>-1.624066</td>\n",
       "      <td>0.443553</td>\n",
       "      <td>1</td>\n",
       "    </tr>\n",
       "    <tr>\n",
       "      <th>4</th>\n",
       "      <td>-1.204798</td>\n",
       "      <td>0.078464</td>\n",
       "      <td>0.705181</td>\n",
       "      <td>0.224765</td>\n",
       "      <td>0.618707</td>\n",
       "      <td>1.534946</td>\n",
       "      <td>-0.302288</td>\n",
       "      <td>2.325055</td>\n",
       "      <td>0.495505</td>\n",
       "      <td>0.538133</td>\n",
       "      <td>0</td>\n",
       "    </tr>\n",
       "    <tr>\n",
       "      <th>...</th>\n",
       "      <td>...</td>\n",
       "      <td>...</td>\n",
       "      <td>...</td>\n",
       "      <td>...</td>\n",
       "      <td>...</td>\n",
       "      <td>...</td>\n",
       "      <td>...</td>\n",
       "      <td>...</td>\n",
       "      <td>...</td>\n",
       "      <td>...</td>\n",
       "      <td>...</td>\n",
       "    </tr>\n",
       "    <tr>\n",
       "      <th>9995</th>\n",
       "      <td>-1.606404</td>\n",
       "      <td>0.228927</td>\n",
       "      <td>0.959690</td>\n",
       "      <td>0.145821</td>\n",
       "      <td>0.682755</td>\n",
       "      <td>-0.927143</td>\n",
       "      <td>-0.280438</td>\n",
       "      <td>0.789222</td>\n",
       "      <td>-1.330100</td>\n",
       "      <td>-1.463687</td>\n",
       "      <td>0</td>\n",
       "    </tr>\n",
       "    <tr>\n",
       "      <th>9996</th>\n",
       "      <td>1.154048</td>\n",
       "      <td>-0.120265</td>\n",
       "      <td>-0.643621</td>\n",
       "      <td>-0.467386</td>\n",
       "      <td>-0.825604</td>\n",
       "      <td>0.725398</td>\n",
       "      <td>-1.439272</td>\n",
       "      <td>-1.132146</td>\n",
       "      <td>1.511610</td>\n",
       "      <td>-0.114986</td>\n",
       "      <td>0</td>\n",
       "    </tr>\n",
       "    <tr>\n",
       "      <th>9997</th>\n",
       "      <td>0.841468</td>\n",
       "      <td>-0.593749</td>\n",
       "      <td>-0.391671</td>\n",
       "      <td>-0.955036</td>\n",
       "      <td>-1.169619</td>\n",
       "      <td>0.683856</td>\n",
       "      <td>-1.629486</td>\n",
       "      <td>0.289335</td>\n",
       "      <td>-0.434358</td>\n",
       "      <td>-1.271335</td>\n",
       "      <td>0</td>\n",
       "    </tr>\n",
       "    <tr>\n",
       "      <th>9998</th>\n",
       "      <td>1.080252</td>\n",
       "      <td>-0.607761</td>\n",
       "      <td>-0.488605</td>\n",
       "      <td>-1.338506</td>\n",
       "      <td>-1.605447</td>\n",
       "      <td>-1.689724</td>\n",
       "      <td>0.202908</td>\n",
       "      <td>0.291496</td>\n",
       "      <td>0.827980</td>\n",
       "      <td>-1.069399</td>\n",
       "      <td>0</td>\n",
       "    </tr>\n",
       "    <tr>\n",
       "      <th>9999</th>\n",
       "      <td>-1.205338</td>\n",
       "      <td>-1.719647</td>\n",
       "      <td>0.994358</td>\n",
       "      <td>-2.060993</td>\n",
       "      <td>-1.493417</td>\n",
       "      <td>-0.664010</td>\n",
       "      <td>0.718480</td>\n",
       "      <td>-0.305819</td>\n",
       "      <td>-1.405728</td>\n",
       "      <td>-0.703207</td>\n",
       "      <td>0</td>\n",
       "    </tr>\n",
       "  </tbody>\n",
       "</table>\n",
       "<p>10000 rows × 11 columns</p>\n",
       "</div>"
      ],
      "text/plain": [
       "            x1        x2        x3        x4        x5        x6        x7  \\\n",
       "0     0.633563  0.357385 -0.503931  0.935066  0.647981 -0.050796 -1.933989   \n",
       "1     1.283905  1.109459 -0.908953  1.006586  0.492219  1.107295  1.243526   \n",
       "2    -0.966476 -0.593314  0.458020  1.032323  1.283685 -0.317640  1.499045   \n",
       "3     2.429309 -1.306530 -1.869925  3.092164  2.028800 -0.879635 -0.393494   \n",
       "4    -1.204798  0.078464  0.705181  0.224765  0.618707  1.534946 -0.302288   \n",
       "...        ...       ...       ...       ...       ...       ...       ...   \n",
       "9995 -1.606404  0.228927  0.959690  0.145821  0.682755 -0.927143 -0.280438   \n",
       "9996  1.154048 -0.120265 -0.643621 -0.467386 -0.825604  0.725398 -1.439272   \n",
       "9997  0.841468 -0.593749 -0.391671 -0.955036 -1.169619  0.683856 -1.629486   \n",
       "9998  1.080252 -0.607761 -0.488605 -1.338506 -1.605447 -1.689724  0.202908   \n",
       "9999 -1.205338 -1.719647  0.994358 -2.060993 -1.493417 -0.664010  0.718480   \n",
       "\n",
       "            x8        x9       x10  y  \n",
       "0     2.081684  0.041266 -0.258298  1  \n",
       "1    -0.172200  1.150359  0.147744  1  \n",
       "2     0.434477  0.423678  1.251380  1  \n",
       "3    -0.101213 -1.624066  0.443553  1  \n",
       "4     2.325055  0.495505  0.538133  0  \n",
       "...        ...       ...       ... ..  \n",
       "9995  0.789222 -1.330100 -1.463687  0  \n",
       "9996 -1.132146  1.511610 -0.114986  0  \n",
       "9997  0.289335 -0.434358 -1.271335  0  \n",
       "9998  0.291496  0.827980 -1.069399  0  \n",
       "9999 -0.305819 -1.405728 -0.703207  0  \n",
       "\n",
       "[10000 rows x 11 columns]"
      ]
     },
     "execution_count": 14,
     "metadata": {},
     "output_type": "execute_result"
    }
   ],
   "source": [
    "import pandas as pd\n",
    "\n",
    "df = pd.read_csv(\"C:/Users/raffi/Downloads/Belajar_DL/Praktikum_DL/Pertemuan 2/Dataset/dataset_klasifikasi_biner.csv\")\n",
    "df"
   ]
  },
  {
   "cell_type": "markdown",
   "id": "3e15b84c",
   "metadata": {},
   "source": [
    "# Membagi Dataset"
   ]
  },
  {
   "cell_type": "code",
   "execution_count": 16,
   "id": "2ea14d1e",
   "metadata": {},
   "outputs": [
    {
     "name": "stdout",
     "output_type": "stream",
     "text": [
      "(8000, 10) (2000, 10) (8000,) (2000,)\n"
     ]
    }
   ],
   "source": [
    "from sklearn.model_selection import train_test_split\n",
    "\n",
    "x = df.drop('y', axis=1).values\n",
    "y = df['y'].values\n",
    "\n",
    "x_train, x_test, y_train, y_test = train_test_split(x, y, test_size=0.2, random_state=42, stratify=y)\n",
    "print(x_train.shape, x_test.shape, y_train.shape, y_test.shape)\n"
   ]
  },
  {
   "cell_type": "markdown",
   "id": "df030462",
   "metadata": {},
   "source": [
    "# Membuat Arsitektur Model"
   ]
  },
  {
   "cell_type": "code",
   "execution_count": 38,
   "id": "c7b0c846",
   "metadata": {},
   "outputs": [],
   "source": [
    "from keras.models import Sequential\n",
    "from keras.layers import Dense\n",
    "\n",
    "model = Sequential()\n",
    "model.add(Dense(units=32, input_dim=10, activation='relu'))\n",
    "model.add(Dense(units=16, activation='relu'))\n",
    "model.add(Dense(units=8, activation='relu'))\n",
    "model.add(Dense(units=4, activation='relu'))\n",
    "model.add(Dense(units=2, activation='relu'))\n",
    "model.add(Dense(units=1, activation='sigmoid'))"
   ]
  },
  {
   "cell_type": "markdown",
   "id": "283f98eb",
   "metadata": {},
   "source": [
    "Kemudian mari kita siapkan JST dengan susunan `32-16-8-4-2` dan `1`. Perhatikan, pada layer terakhir kita beri nilai `Dense`-nya `1` dengan activation `sigmoid`."
   ]
  },
  {
   "cell_type": "markdown",
   "id": "9f988cc1",
   "metadata": {},
   "source": [
    "# Compile Model"
   ]
  },
  {
   "cell_type": "code",
   "execution_count": 39,
   "id": "f6288a83",
   "metadata": {},
   "outputs": [
    {
     "name": "stdout",
     "output_type": "stream",
     "text": [
      "Model: \"sequential_1\"\n",
      "_________________________________________________________________\n",
      " Layer (type)                Output Shape              Param #   \n",
      "=================================================================\n",
      " dense_6 (Dense)             (None, 32)                352       \n",
      "                                                                 \n",
      " dense_7 (Dense)             (None, 16)                528       \n",
      "                                                                 \n",
      " dense_8 (Dense)             (None, 8)                 136       \n",
      "                                                                 \n",
      " dense_9 (Dense)             (None, 4)                 36        \n",
      "                                                                 \n",
      " dense_10 (Dense)            (None, 2)                 10        \n",
      "                                                                 \n",
      " dense_11 (Dense)            (None, 1)                 3         \n",
      "                                                                 \n",
      "=================================================================\n",
      "Total params: 1065 (4.16 KB)\n",
      "Trainable params: 1065 (4.16 KB)\n",
      "Non-trainable params: 0 (0.00 Byte)\n",
      "_________________________________________________________________\n"
     ]
    }
   ],
   "source": [
    "model.compile(loss='binary_crossentropy', optimizer='adam', metrics=['accuracy'])\n",
    "model.summary()"
   ]
  },
  {
   "cell_type": "markdown",
   "id": "d640eb39",
   "metadata": {},
   "source": [
    "Untuk kasus klasifikasi biner, kita bisa pergunakan `loss`-nya `binary_crossentropy`. Kemudian, selain `loss`, pada praktikum kali ini kita tambahkan satu lagi variabel `metrics` dengan isian `'accuracy'`, untuk mengetahui seberapa akurat otak kita."
   ]
  },
  {
   "cell_type": "markdown",
   "id": "8370a549",
   "metadata": {},
   "source": [
    "# Training Model"
   ]
  },
  {
   "cell_type": "code",
   "execution_count": 40,
   "id": "c2f98b32",
   "metadata": {},
   "outputs": [
    {
     "name": "stdout",
     "output_type": "stream",
     "text": [
      "Epoch 1/100\n",
      "25/25 [==============================] - 2s 24ms/step - loss: 0.6861 - accuracy: 0.5348 - val_loss: 0.6765 - val_accuracy: 0.7131\n",
      "Epoch 2/100\n",
      "25/25 [==============================] - 0s 6ms/step - loss: 0.6555 - accuracy: 0.7780 - val_loss: 0.6321 - val_accuracy: 0.7831\n",
      "Epoch 3/100\n",
      "25/25 [==============================] - 0s 6ms/step - loss: 0.5924 - accuracy: 0.8197 - val_loss: 0.5599 - val_accuracy: 0.8219\n",
      "Epoch 4/100\n",
      "25/25 [==============================] - 0s 6ms/step - loss: 0.5130 - accuracy: 0.8492 - val_loss: 0.5006 - val_accuracy: 0.8594\n",
      "Epoch 5/100\n",
      "25/25 [==============================] - 0s 7ms/step - loss: 0.4621 - accuracy: 0.8842 - val_loss: 0.4770 - val_accuracy: 0.8794\n",
      "Epoch 6/100\n",
      "25/25 [==============================] - 0s 5ms/step - loss: 0.4390 - accuracy: 0.9033 - val_loss: 0.4661 - val_accuracy: 0.8863\n",
      "Epoch 7/100\n",
      "25/25 [==============================] - 0s 5ms/step - loss: 0.4246 - accuracy: 0.9114 - val_loss: 0.4532 - val_accuracy: 0.9031\n",
      "Epoch 8/100\n",
      "25/25 [==============================] - 0s 7ms/step - loss: 0.4129 - accuracy: 0.9181 - val_loss: 0.4433 - val_accuracy: 0.9106\n",
      "Epoch 9/100\n",
      "25/25 [==============================] - 0s 6ms/step - loss: 0.4025 - accuracy: 0.9252 - val_loss: 0.4371 - val_accuracy: 0.9100\n",
      "Epoch 10/100\n",
      "25/25 [==============================] - 0s 6ms/step - loss: 0.3929 - accuracy: 0.9273 - val_loss: 0.4252 - val_accuracy: 0.9137\n",
      "Epoch 11/100\n",
      "25/25 [==============================] - 0s 5ms/step - loss: 0.3845 - accuracy: 0.9317 - val_loss: 0.4191 - val_accuracy: 0.9169\n",
      "Epoch 12/100\n",
      "25/25 [==============================] - 0s 5ms/step - loss: 0.3767 - accuracy: 0.9327 - val_loss: 0.4114 - val_accuracy: 0.9169\n",
      "Epoch 13/100\n",
      "25/25 [==============================] - 0s 6ms/step - loss: 0.3693 - accuracy: 0.9362 - val_loss: 0.4048 - val_accuracy: 0.9175\n",
      "Epoch 14/100\n",
      "25/25 [==============================] - 0s 6ms/step - loss: 0.3626 - accuracy: 0.9370 - val_loss: 0.3986 - val_accuracy: 0.9206\n",
      "Epoch 15/100\n",
      "25/25 [==============================] - 0s 6ms/step - loss: 0.3563 - accuracy: 0.9388 - val_loss: 0.3934 - val_accuracy: 0.9219\n",
      "Epoch 16/100\n",
      "25/25 [==============================] - 0s 5ms/step - loss: 0.3505 - accuracy: 0.9392 - val_loss: 0.3879 - val_accuracy: 0.9244\n",
      "Epoch 17/100\n",
      "25/25 [==============================] - 0s 6ms/step - loss: 0.3449 - accuracy: 0.9425 - val_loss: 0.3845 - val_accuracy: 0.9244\n",
      "Epoch 18/100\n",
      "25/25 [==============================] - 0s 6ms/step - loss: 0.3398 - accuracy: 0.9408 - val_loss: 0.3791 - val_accuracy: 0.9275\n",
      "Epoch 19/100\n",
      "25/25 [==============================] - 0s 5ms/step - loss: 0.3354 - accuracy: 0.9433 - val_loss: 0.3774 - val_accuracy: 0.9244\n",
      "Epoch 20/100\n",
      "25/25 [==============================] - 0s 8ms/step - loss: 0.3304 - accuracy: 0.9427 - val_loss: 0.3715 - val_accuracy: 0.9269\n",
      "Epoch 21/100\n",
      "25/25 [==============================] - 0s 7ms/step - loss: 0.3264 - accuracy: 0.9423 - val_loss: 0.3670 - val_accuracy: 0.9294\n",
      "Epoch 22/100\n",
      "25/25 [==============================] - 0s 6ms/step - loss: 0.3221 - accuracy: 0.9431 - val_loss: 0.3633 - val_accuracy: 0.9287\n",
      "Epoch 23/100\n",
      "25/25 [==============================] - 0s 5ms/step - loss: 0.3179 - accuracy: 0.9438 - val_loss: 0.3608 - val_accuracy: 0.9294\n",
      "Epoch 24/100\n",
      "25/25 [==============================] - 0s 5ms/step - loss: 0.3138 - accuracy: 0.9441 - val_loss: 0.3574 - val_accuracy: 0.9281\n",
      "Epoch 25/100\n",
      "25/25 [==============================] - 0s 5ms/step - loss: 0.3101 - accuracy: 0.9448 - val_loss: 0.3549 - val_accuracy: 0.9281\n",
      "Epoch 26/100\n",
      "25/25 [==============================] - 0s 4ms/step - loss: 0.3062 - accuracy: 0.9444 - val_loss: 0.3486 - val_accuracy: 0.9325\n",
      "Epoch 27/100\n",
      "25/25 [==============================] - 0s 6ms/step - loss: 0.3029 - accuracy: 0.9450 - val_loss: 0.3462 - val_accuracy: 0.9319\n",
      "Epoch 28/100\n",
      "25/25 [==============================] - 0s 5ms/step - loss: 0.2993 - accuracy: 0.9441 - val_loss: 0.3434 - val_accuracy: 0.9312\n",
      "Epoch 29/100\n",
      "25/25 [==============================] - 0s 6ms/step - loss: 0.2957 - accuracy: 0.9450 - val_loss: 0.3397 - val_accuracy: 0.9325\n",
      "Epoch 30/100\n",
      "25/25 [==============================] - 0s 8ms/step - loss: 0.2926 - accuracy: 0.9461 - val_loss: 0.3388 - val_accuracy: 0.9287\n",
      "Epoch 31/100\n",
      "25/25 [==============================] - 0s 7ms/step - loss: 0.2890 - accuracy: 0.9461 - val_loss: 0.3358 - val_accuracy: 0.9312\n",
      "Epoch 32/100\n",
      "25/25 [==============================] - 0s 6ms/step - loss: 0.2858 - accuracy: 0.9466 - val_loss: 0.3313 - val_accuracy: 0.9331\n",
      "Epoch 33/100\n",
      "25/25 [==============================] - 0s 6ms/step - loss: 0.2831 - accuracy: 0.9464 - val_loss: 0.3285 - val_accuracy: 0.9319\n",
      "Epoch 34/100\n",
      "25/25 [==============================] - 0s 6ms/step - loss: 0.2800 - accuracy: 0.9473 - val_loss: 0.3255 - val_accuracy: 0.9331\n",
      "Epoch 35/100\n",
      "25/25 [==============================] - 0s 5ms/step - loss: 0.2769 - accuracy: 0.9469 - val_loss: 0.3241 - val_accuracy: 0.9325\n",
      "Epoch 36/100\n",
      "25/25 [==============================] - 0s 5ms/step - loss: 0.2739 - accuracy: 0.9477 - val_loss: 0.3225 - val_accuracy: 0.9312\n",
      "Epoch 37/100\n",
      "25/25 [==============================] - 0s 5ms/step - loss: 0.2721 - accuracy: 0.9464 - val_loss: 0.3183 - val_accuracy: 0.9331\n",
      "Epoch 38/100\n",
      "25/25 [==============================] - 0s 5ms/step - loss: 0.2689 - accuracy: 0.9470 - val_loss: 0.3163 - val_accuracy: 0.9319\n",
      "Epoch 39/100\n",
      "25/25 [==============================] - 0s 5ms/step - loss: 0.2662 - accuracy: 0.9481 - val_loss: 0.3150 - val_accuracy: 0.9319\n",
      "Epoch 40/100\n",
      "25/25 [==============================] - 0s 5ms/step - loss: 0.2632 - accuracy: 0.9475 - val_loss: 0.3119 - val_accuracy: 0.9337\n",
      "Epoch 41/100\n",
      "25/25 [==============================] - 0s 5ms/step - loss: 0.2608 - accuracy: 0.9484 - val_loss: 0.3098 - val_accuracy: 0.9325\n",
      "Epoch 42/100\n",
      "25/25 [==============================] - 0s 5ms/step - loss: 0.2585 - accuracy: 0.9489 - val_loss: 0.3118 - val_accuracy: 0.9300\n",
      "Epoch 43/100\n",
      "25/25 [==============================] - 0s 5ms/step - loss: 0.2562 - accuracy: 0.9484 - val_loss: 0.3055 - val_accuracy: 0.9331\n",
      "Epoch 44/100\n",
      "25/25 [==============================] - 0s 5ms/step - loss: 0.2536 - accuracy: 0.9486 - val_loss: 0.3033 - val_accuracy: 0.9337\n",
      "Epoch 45/100\n",
      "25/25 [==============================] - 0s 5ms/step - loss: 0.2514 - accuracy: 0.9489 - val_loss: 0.3003 - val_accuracy: 0.9331\n",
      "Epoch 46/100\n",
      "25/25 [==============================] - 0s 5ms/step - loss: 0.2493 - accuracy: 0.9483 - val_loss: 0.3015 - val_accuracy: 0.9319\n",
      "Epoch 47/100\n",
      "25/25 [==============================] - 0s 5ms/step - loss: 0.2480 - accuracy: 0.9481 - val_loss: 0.2986 - val_accuracy: 0.9331\n",
      "Epoch 48/100\n",
      "25/25 [==============================] - 0s 5ms/step - loss: 0.2447 - accuracy: 0.9495 - val_loss: 0.2978 - val_accuracy: 0.9325\n",
      "Epoch 49/100\n",
      "25/25 [==============================] - 0s 5ms/step - loss: 0.2428 - accuracy: 0.9491 - val_loss: 0.2965 - val_accuracy: 0.9306\n",
      "Epoch 50/100\n",
      "25/25 [==============================] - 0s 5ms/step - loss: 0.2408 - accuracy: 0.9497 - val_loss: 0.2917 - val_accuracy: 0.9319\n",
      "Epoch 51/100\n",
      "25/25 [==============================] - 0s 4ms/step - loss: 0.2387 - accuracy: 0.9505 - val_loss: 0.2929 - val_accuracy: 0.9325\n",
      "Epoch 52/100\n",
      "25/25 [==============================] - 0s 5ms/step - loss: 0.2369 - accuracy: 0.9498 - val_loss: 0.2902 - val_accuracy: 0.9312\n",
      "Epoch 53/100\n",
      "25/25 [==============================] - 0s 5ms/step - loss: 0.2341 - accuracy: 0.9505 - val_loss: 0.2879 - val_accuracy: 0.9331\n",
      "Epoch 54/100\n",
      "25/25 [==============================] - 0s 5ms/step - loss: 0.2325 - accuracy: 0.9502 - val_loss: 0.2885 - val_accuracy: 0.9325\n",
      "Epoch 55/100\n",
      "25/25 [==============================] - 0s 5ms/step - loss: 0.2310 - accuracy: 0.9503 - val_loss: 0.2867 - val_accuracy: 0.9312\n",
      "Epoch 56/100\n",
      "25/25 [==============================] - 0s 5ms/step - loss: 0.2290 - accuracy: 0.9508 - val_loss: 0.2813 - val_accuracy: 0.9312\n",
      "Epoch 57/100\n",
      "25/25 [==============================] - 0s 5ms/step - loss: 0.2272 - accuracy: 0.9506 - val_loss: 0.2840 - val_accuracy: 0.9319\n",
      "Epoch 58/100\n",
      "25/25 [==============================] - 0s 5ms/step - loss: 0.2251 - accuracy: 0.9509 - val_loss: 0.2785 - val_accuracy: 0.9325\n",
      "Epoch 59/100\n",
      "25/25 [==============================] - 0s 5ms/step - loss: 0.2236 - accuracy: 0.9509 - val_loss: 0.2801 - val_accuracy: 0.9331\n",
      "Epoch 60/100\n",
      "25/25 [==============================] - 0s 5ms/step - loss: 0.2227 - accuracy: 0.9511 - val_loss: 0.2797 - val_accuracy: 0.9344\n",
      "Epoch 61/100\n",
      "25/25 [==============================] - 0s 5ms/step - loss: 0.2206 - accuracy: 0.9519 - val_loss: 0.2774 - val_accuracy: 0.9325\n",
      "Epoch 62/100\n",
      "25/25 [==============================] - 0s 5ms/step - loss: 0.2188 - accuracy: 0.9519 - val_loss: 0.2762 - val_accuracy: 0.9331\n",
      "Epoch 63/100\n",
      "25/25 [==============================] - 0s 5ms/step - loss: 0.2172 - accuracy: 0.9513 - val_loss: 0.2723 - val_accuracy: 0.9325\n",
      "Epoch 64/100\n",
      "25/25 [==============================] - 0s 5ms/step - loss: 0.2157 - accuracy: 0.9520 - val_loss: 0.2747 - val_accuracy: 0.9331\n",
      "Epoch 65/100\n",
      "25/25 [==============================] - 0s 6ms/step - loss: 0.2147 - accuracy: 0.9509 - val_loss: 0.2716 - val_accuracy: 0.9344\n",
      "Epoch 66/100\n",
      "25/25 [==============================] - 0s 9ms/step - loss: 0.2142 - accuracy: 0.9503 - val_loss: 0.2722 - val_accuracy: 0.9319\n",
      "Epoch 67/100\n",
      "25/25 [==============================] - 0s 6ms/step - loss: 0.2116 - accuracy: 0.9519 - val_loss: 0.2683 - val_accuracy: 0.9319\n",
      "Epoch 68/100\n",
      "25/25 [==============================] - 0s 9ms/step - loss: 0.2106 - accuracy: 0.9517 - val_loss: 0.2689 - val_accuracy: 0.9319\n",
      "Epoch 69/100\n",
      "25/25 [==============================] - 0s 8ms/step - loss: 0.2095 - accuracy: 0.9517 - val_loss: 0.2661 - val_accuracy: 0.9312\n",
      "Epoch 70/100\n",
      "25/25 [==============================] - 0s 7ms/step - loss: 0.2082 - accuracy: 0.9513 - val_loss: 0.2686 - val_accuracy: 0.9344\n",
      "Epoch 71/100\n",
      "25/25 [==============================] - 0s 6ms/step - loss: 0.2067 - accuracy: 0.9522 - val_loss: 0.2679 - val_accuracy: 0.9337\n",
      "Epoch 72/100\n",
      "25/25 [==============================] - 0s 6ms/step - loss: 0.2052 - accuracy: 0.9528 - val_loss: 0.2655 - val_accuracy: 0.9319\n",
      "Epoch 73/100\n",
      "25/25 [==============================] - 0s 7ms/step - loss: 0.2051 - accuracy: 0.9511 - val_loss: 0.2628 - val_accuracy: 0.9312\n",
      "Epoch 74/100\n",
      "25/25 [==============================] - 0s 6ms/step - loss: 0.2034 - accuracy: 0.9522 - val_loss: 0.2633 - val_accuracy: 0.9356\n",
      "Epoch 75/100\n",
      "25/25 [==============================] - 0s 5ms/step - loss: 0.2025 - accuracy: 0.9527 - val_loss: 0.2626 - val_accuracy: 0.9337\n",
      "Epoch 76/100\n",
      "25/25 [==============================] - 0s 6ms/step - loss: 0.2004 - accuracy: 0.9536 - val_loss: 0.2621 - val_accuracy: 0.9331\n",
      "Epoch 77/100\n",
      "25/25 [==============================] - 0s 6ms/step - loss: 0.2003 - accuracy: 0.9527 - val_loss: 0.2617 - val_accuracy: 0.9344\n",
      "Epoch 78/100\n",
      "25/25 [==============================] - 0s 6ms/step - loss: 0.1983 - accuracy: 0.9523 - val_loss: 0.2626 - val_accuracy: 0.9325\n",
      "Epoch 79/100\n",
      "25/25 [==============================] - 0s 8ms/step - loss: 0.1981 - accuracy: 0.9522 - val_loss: 0.2601 - val_accuracy: 0.9331\n",
      "Epoch 80/100\n",
      "25/25 [==============================] - 0s 6ms/step - loss: 0.1971 - accuracy: 0.9523 - val_loss: 0.2646 - val_accuracy: 0.9319\n",
      "Epoch 81/100\n",
      "25/25 [==============================] - 0s 6ms/step - loss: 0.1957 - accuracy: 0.9528 - val_loss: 0.2584 - val_accuracy: 0.9337\n",
      "Epoch 82/100\n",
      "25/25 [==============================] - 0s 6ms/step - loss: 0.1948 - accuracy: 0.9533 - val_loss: 0.2613 - val_accuracy: 0.9356\n",
      "Epoch 83/100\n",
      "25/25 [==============================] - 0s 6ms/step - loss: 0.1935 - accuracy: 0.9530 - val_loss: 0.2563 - val_accuracy: 0.9337\n",
      "Epoch 84/100\n",
      "25/25 [==============================] - 0s 6ms/step - loss: 0.1930 - accuracy: 0.9538 - val_loss: 0.2588 - val_accuracy: 0.9344\n",
      "Epoch 85/100\n",
      "25/25 [==============================] - 0s 6ms/step - loss: 0.1922 - accuracy: 0.9531 - val_loss: 0.2556 - val_accuracy: 0.9337\n",
      "Epoch 86/100\n",
      "25/25 [==============================] - 0s 6ms/step - loss: 0.1911 - accuracy: 0.9536 - val_loss: 0.2550 - val_accuracy: 0.9350\n",
      "Epoch 87/100\n",
      "25/25 [==============================] - 0s 8ms/step - loss: 0.1902 - accuracy: 0.9538 - val_loss: 0.2547 - val_accuracy: 0.9331\n",
      "Epoch 88/100\n",
      "25/25 [==============================] - 0s 8ms/step - loss: 0.1897 - accuracy: 0.9528 - val_loss: 0.2549 - val_accuracy: 0.9337\n",
      "Epoch 89/100\n",
      "25/25 [==============================] - 0s 8ms/step - loss: 0.1891 - accuracy: 0.9533 - val_loss: 0.2554 - val_accuracy: 0.9350\n",
      "Epoch 90/100\n",
      "25/25 [==============================] - 0s 7ms/step - loss: 0.1880 - accuracy: 0.9533 - val_loss: 0.2576 - val_accuracy: 0.9331\n",
      "Epoch 91/100\n",
      "25/25 [==============================] - 0s 6ms/step - loss: 0.1887 - accuracy: 0.9531 - val_loss: 0.2536 - val_accuracy: 0.9337\n",
      "Epoch 92/100\n",
      "25/25 [==============================] - 0s 5ms/step - loss: 0.1859 - accuracy: 0.9539 - val_loss: 0.2531 - val_accuracy: 0.9312\n",
      "Epoch 93/100\n",
      "25/25 [==============================] - 0s 6ms/step - loss: 0.1857 - accuracy: 0.9531 - val_loss: 0.2530 - val_accuracy: 0.9325\n",
      "Epoch 94/100\n",
      "25/25 [==============================] - 0s 6ms/step - loss: 0.1848 - accuracy: 0.9541 - val_loss: 0.2497 - val_accuracy: 0.9344\n",
      "Epoch 95/100\n",
      "25/25 [==============================] - 0s 8ms/step - loss: 0.1840 - accuracy: 0.9536 - val_loss: 0.2518 - val_accuracy: 0.9344\n",
      "Epoch 96/100\n",
      "25/25 [==============================] - 0s 8ms/step - loss: 0.1830 - accuracy: 0.9533 - val_loss: 0.2511 - val_accuracy: 0.9331\n",
      "Epoch 97/100\n",
      "25/25 [==============================] - 0s 6ms/step - loss: 0.1822 - accuracy: 0.9544 - val_loss: 0.2508 - val_accuracy: 0.9344\n",
      "Epoch 98/100\n",
      "25/25 [==============================] - 0s 6ms/step - loss: 0.1816 - accuracy: 0.9539 - val_loss: 0.2492 - val_accuracy: 0.9331\n",
      "Epoch 99/100\n",
      "25/25 [==============================] - 0s 6ms/step - loss: 0.1819 - accuracy: 0.9530 - val_loss: 0.2527 - val_accuracy: 0.9344\n",
      "Epoch 100/100\n",
      "25/25 [==============================] - 0s 8ms/step - loss: 0.1805 - accuracy: 0.9539 - val_loss: 0.2534 - val_accuracy: 0.9319\n"
     ]
    }
   ],
   "source": [
    "note = model.fit(x_train, y_train, validation_split=0.2, batch_size=256, epochs=100)"
   ]
  },
  {
   "cell_type": "markdown",
   "id": "9e64d260",
   "metadata": {},
   "source": [
    "# Plot Performa Model"
   ]
  },
  {
   "cell_type": "code",
   "execution_count": 41,
   "id": "6156c5e5",
   "metadata": {},
   "outputs": [
    {
     "data": {
      "image/png": "[encoded data removed]",
      "text/plain": [
       "<Figure size 640x480 with 1 Axes>"
      ]
     },
     "metadata": {},
     "output_type": "display_data"
    }
   ],
   "source": [
    "import matplotlib.pyplot as plt\n",
    "\n",
    "plt.plot(range(len(note.history['val_accuracy'])), note.history['val_accuracy'], label='val_accuracy')\n",
    "plt.plot(range(len(note.history['accuracy'])), note.history['accuracy'], label='accuracy')\n",
    "plt.legend()\n",
    "plt.show()"
   ]
  },
  {
   "cell_type": "markdown",
   "id": "d7bcc9a6",
   "metadata": {},
   "source": [
    "# Evaluasi Model"
   ]
  },
  {
   "cell_type": "code",
   "execution_count": 42,
   "id": "7553c1a0",
   "metadata": {},
   "outputs": [
    {
     "name": "stdout",
     "output_type": "stream",
     "text": [
      "63/63 [==============================] - 0s 2ms/step - loss: 0.2664 - accuracy: 0.9275\n",
      "accuracy model :  0.9275000095367432\n"
     ]
    }
   ],
   "source": [
    "loss, acc = model.evaluate(x_test, y_test)\n",
    "print('accuracy model : ', acc)"
   ]
  },
  {
   "cell_type": "code",
   "execution_count": null,
   "id": "67853fe1",
   "metadata": {},
   "outputs": [],
   "source": [
    "# accuracy score"
   ]
  },
  {
   "cell_type": "markdown",
   "id": "f14cda01",
   "metadata": {},
   "source": [
    "# Prediksi Model"
   ]
  },
  {
   "cell_type": "code",
   "execution_count": 55,
   "id": "4cd3c1d5",
   "metadata": {},
   "outputs": [
    {
     "name": "stdout",
     "output_type": "stream",
     "text": [
      "63/63 [==============================] - 0s 2ms/step\n"
     ]
    },
    {
     "data": {
      "text/plain": [
       "array([[0.04519183],\n",
       "       [0.86859196],\n",
       "       [0.00643411],\n",
       "       ...,\n",
       "       [0.86859196],\n",
       "       [0.86859196],\n",
       "       [0.86859196]], dtype=float32)"
      ]
     },
     "execution_count": 55,
     "metadata": {},
     "output_type": "execute_result"
    }
   ],
   "source": [
    "pred = model.predict(x_test)\n",
    "pred"
   ]
  },
  {
   "cell_type": "markdown",
   "id": "9eaf1413",
   "metadata": {},
   "source": [
    "Untuk menormalisasikan ke dalam bentuk `0` dan `1`, maka kita perlu menambahkan baris kode sebagai berikut, yang intinya untuk segala nilai yang di atas $0.5$ akan kita rubah ke `kelas 1` dan untuk segala nilai yang di bawah $0.5$ akan kita rubah ke `kelas 0`."
   ]
  },
  {
   "cell_type": "code",
   "execution_count": 56,
   "id": "a572bacf",
   "metadata": {},
   "outputs": [
    {
     "data": {
      "text/plain": [
       "array([[0],\n",
       "       [1],\n",
       "       [0],\n",
       "       ...,\n",
       "       [1],\n",
       "       [1],\n",
       "       [1]])"
      ]
     },
     "execution_count": 56,
     "metadata": {},
     "output_type": "execute_result"
    }
   ],
   "source": [
    "pred = (pred > 0.5) * 1\n",
    "pred"
   ]
  },
  {
   "cell_type": "markdown",
   "id": "d262ca0e",
   "metadata": {},
   "source": [
    "# Evaluasi dengan Confusion Matrix"
   ]
  },
  {
   "cell_type": "code",
   "execution_count": 59,
   "id": "381d28db",
   "metadata": {},
   "outputs": [
    {
     "data": {
      "text/plain": [
       "array([[913,  85],\n",
       "       [ 60, 942]], dtype=int64)"
      ]
     },
     "execution_count": 59,
     "metadata": {},
     "output_type": "execute_result"
    }
   ],
   "source": [
    "from sklearn.metrics import confusion_matrix\n",
    "confusion_matrix(y_test, pred)"
   ]
  }
 ],
 "metadata": {
  "kernelspec": {
   "display_name": "Python 3 (ipykernel)",
   "language": "python",
   "name": "python3"
  },
  "language_info": {
   "codemirror_mode": {
    "name": "ipython",
    "version": 3
   },
   "file_extension": ".py",
   "mimetype": "text/x-python",
   "name": "python",
   "nbconvert_exporter": "python",
   "pygments_lexer": "ipython3",
   "version": "3.11.6"
  }
 },
 "nbformat": 4,
 "nbformat_minor": 5
}
